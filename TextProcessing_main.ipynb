{
 "cells": [
  {
   "cell_type": "code",
   "execution_count": 2,
   "id": "6a6739ea-3142-4c59-8199-f9814ac55ba3",
   "metadata": {},
   "outputs": [],
   "source": [
    "#Helper Packages\n",
    "import pandas as pd\n",
    "import numpy as np\n",
    "import warnings\n",
    "import matplotlib.pyplot as plt\n",
    "from pathlib import Path\n",
    "#Packages with tools for text processing.\n",
    "from wordcloud import WordCloud\n",
    "import nltk\n",
    "import nltk.data\n",
    "from nltk.corpus import stopwords\n",
    "from nltk.tokenize import word_tokenize\n",
    "from nltk.stem.porter import PorterStemmer\n",
    "from sklearn.feature_extraction.text import CountVectorizer\n",
    "from nltk.util import ngrams\n",
    "\n",
    "stop_words = stopwords.words('english')"
   ]
  },
  {
   "cell_type": "code",
   "execution_count": 3,
   "id": "be75c0e7-f077-4628-99d9-be15c595aa98",
   "metadata": {},
   "outputs": [
    {
     "name": "stdout",
     "output_type": "stream",
     "text": [
      "Hello World\n"
     ]
    }
   ],
   "source": [
    "print(\"Hello World\")"
   ]
  },
  {
   "cell_type": "code",
   "execution_count": 4,
   "id": "0acc5438-3e6e-4aa5-b4f6-16a633d2cbc9",
   "metadata": {},
   "outputs": [
    {
     "name": "stdout",
     "output_type": "stream",
     "text": [
      "/workspaces/Text-Mining\n",
      "/\n"
     ]
    }
   ],
   "source": [
    "# Path to the jupyter notebook\n",
    "home_dir = Path.cwd()\n",
    "print(home_dir)\n",
    "\n",
    "main_dir = home_dir.parent.parent\n",
    "print(main_dir)\n",
    "#data_dir = str(main_dir) + \"/data\""
   ]
  },
  {
   "cell_type": "code",
   "execution_count": 5,
   "id": "14eb11c7-50c8-4a4d-ba28-784ba3c2733f",
   "metadata": {},
   "outputs": [
    {
     "name": "stdout",
     "output_type": "stream",
     "text": [
      "/workspaces/Text-Mining/Data\n"
     ]
    }
   ],
   "source": [
    "# More direct -- Setting data directory to \"Data\" folder\n",
    "data_dir = Path.cwd() / \"Data\"\n",
    "print(data_dir)\n"
   ]
  },
  {
   "cell_type": "code",
   "execution_count": 6,
   "id": "c988e98b-0b5a-4ee2-9aa7-b9aa518a889d",
   "metadata": {},
   "outputs": [
    {
     "name": "stdout",
     "output_type": "stream",
     "text": [
      "NLTK Downloader\n",
      "---------------------------------------------------------------------------\n",
      "    d) Download   l) List    u) Update   c) Config   h) Help   q) Quit\n",
      "---------------------------------------------------------------------------\n"
     ]
    },
    {
     "name": "stdin",
     "output_type": "stream",
     "text": [
      "Downloader>  q\n"
     ]
    },
    {
     "data": {
      "text/plain": [
       "True"
      ]
     },
     "execution_count": 6,
     "metadata": {},
     "output_type": "execute_result"
    }
   ],
   "source": [
    "# download nltk\n",
    "\n",
    "nltk.download()"
   ]
  },
  {
   "cell_type": "code",
   "execution_count": 13,
   "id": "150946ed-a9f6-4572-8f5f-a5535bd0b281",
   "metadata": {},
   "outputs": [
    {
     "name": "stdout",
     "output_type": "stream",
     "text": [
      "Index(['web_url', 'headline', 'snippet', 'word_count', 'source',\n",
      "       'type_of_material', 'date', 'id'],\n",
      "      dtype='object')\n",
      "0    Nick Kyrgios started his Brisbane Open title d...\n",
      "1    British police confirmed on Tuesday they were ...\n",
      "2    Marcellus Wiley is still on the fence about le...\n",
      "3    Still reckoning with the fallout from her Emme...\n",
      "4    As far as Arike Ogunbowale and coach Muffet Mc...\n",
      "Name: snippet, dtype: object\n"
     ]
    }
   ],
   "source": [
    "#  Load text data\n",
    "df = pd.read_csv(data_dir / \"NYT_article_data.csv\")\n",
    "print(df.columns)\n",
    "print(df[\"snippet\"].head())\n"
   ]
  },
  {
   "cell_type": "code",
   "execution_count": 14,
   "id": "1219d2e7-4172-4ee5-96ea-1e0c93a9c726",
   "metadata": {},
   "outputs": [
    {
     "name": "stdout",
     "output_type": "stream",
     "text": [
      "0\n",
      "0\n"
     ]
    }
   ],
   "source": [
    "# Print total number of NAs. No NULLS\n",
    "print(df[\"snippet\"].isna().sum())\n",
    "# Drop NAs if any.\n",
    "df = df.dropna(subset=[\"snippet\"]).reset_index(drop=True)\n",
    "print(df[\"snippet\"].isna().sum())"
   ]
  },
  {
   "cell_type": "code",
   "execution_count": 15,
   "id": "d212f012-a625-4b3c-90e7-baceaec06bf2",
   "metadata": {},
   "outputs": [
    {
     "name": "stdout",
     "output_type": "stream",
     "text": [
      "<class 'pandas.core.series.Series'>\n",
      "0    Nick Kyrgios started his Brisbane Open title d...\n",
      "1    British police confirmed on Tuesday they were ...\n",
      "2    Marcellus Wiley is still on the fence about le...\n",
      "3    Still reckoning with the fallout from her Emme...\n",
      "4    As far as Arike Ogunbowale and coach Muffet Mc...\n",
      "Name: snippet, dtype: object\n"
     ]
    }
   ],
   "source": [
    "df_text = df[\"snippet\"]\n",
    "print(type(df_text))\n",
    "\n",
    "print(df_text[:5])"
   ]
  },
  {
   "cell_type": "code",
   "execution_count": 16,
   "id": "4c3a3f8d-86ef-41e1-91c5-925cee580bd5",
   "metadata": {},
   "outputs": [],
   "source": [
    "df_text = df_text.dropna().reset_index(drop=True)\n",
    "df_tokenized = [word_tokenize(i) for i in df_text]"
   ]
  },
  {
   "cell_type": "code",
   "execution_count": 17,
   "id": "d5a9b623-84b4-4a37-9ba2-cbf5e13e62da",
   "metadata": {},
   "outputs": [
    {
     "name": "stdout",
     "output_type": "stream",
     "text": [
      "['Nick', 'Kyrgios', 'started', 'his', 'Brisbane', 'Open', 'title', 'defense', 'with', 'a', 'battling', '7-6', '(', '5', ')', '5-7', '7-6', '(', '5', ')', 'victory', 'over', 'American', 'Ryan', 'Harrison', 'in', 'the', 'opening', 'round', 'on', 'Tuesday', '.']\n"
     ]
    }
   ],
   "source": [
    "document_words = df_tokenized[0]\n",
    "print(document_words)"
   ]
  },
  {
   "cell_type": "code",
   "execution_count": 18,
   "id": "5415f466-ac28-4188-ae01-a5d22b940aee",
   "metadata": {},
   "outputs": [],
   "source": [
    "document_words = [word.lower() for word in document_words]"
   ]
  },
  {
   "cell_type": "code",
   "execution_count": 19,
   "id": "e3897b03-9b79-4fd9-b0ff-230a5c8af130",
   "metadata": {},
   "outputs": [
    {
     "name": "stdout",
     "output_type": "stream",
     "text": [
      "['nick', 'kyrgios', 'started', 'his', 'brisbane', 'open', 'title', 'defense', 'with', 'a']\n"
     ]
    }
   ],
   "source": [
    "document_words = [word for word in document_words if word.isalpha()]\n",
    "print(document_words[:10])"
   ]
  },
  {
   "cell_type": "code",
   "execution_count": 28,
   "id": "b6769d33-43f8-4655-905f-a865995aba9a",
   "metadata": {},
   "outputs": [],
   "source": [
    "\n",
    "\n",
    "\n",
    "process_texts = [\n",
    "    [\n",
    "           PorterStemmer().stem(w)\n",
    "           for word in word_tokenize(text)\n",
    "           if not (w := word.lower()) in stop_words\n",
    "           if w.isalpha()\n",
    "    ] \n",
    "    for text in df_text\n",
    "]\n",
    "\n",
    "wordcount = [len(text) for text in process_texts]"
   ]
  },
  {
   "cell_type": "code",
   "execution_count": 29,
   "id": "798ccb99-ced4-423d-8dad-38af0fa2dda8",
   "metadata": {},
   "outputs": [
    {
     "name": "stdout",
     "output_type": "stream",
     "text": [
      "['nick', 'kyrgio', 'start', 'brisban', 'open', 'titl', 'defens', 'battl', 'victori', 'american']\n",
      "['prohibit', 'vacat', 'rental', 'arrang', 'onlin', 'airbnb', 'move', 'closer', 'realiti', 'thursday']\n",
      "['labor', 'movement', 'press', 'govern', 'get', 'feder', 'employe', 'back', 'work', 'highlight']\n",
      "['william', 'seed', 'may', 'match', 'simona', 'halep', 'perhap', 'sister', 'venu', 'melbourn']\n",
      "['epiphani', 'celebr', 'bring', 'togeth', 'hundr', 'peopl', 'romanian', 'villag', 'pietrosani', 'day']\n"
     ]
    }
   ],
   "source": [
    "print(process_texts[0] [:10])\n",
    "print(process_texts[5] [:10])\n",
    "print(process_texts[10] [:10])\n",
    "print(process_texts[15] [:10])\n",
    "print(process_texts[20] [:10])"
   ]
  },
  {
   "cell_type": "code",
   "execution_count": 30,
   "id": "91afd0cf-b1ef-41cb-9274-2b5a40158b9d",
   "metadata": {},
   "outputs": [
    {
     "data": {
      "image/png": "[encoded data removed]",
      "text/plain": [
       "<Figure size 640x480 with 1 Axes>"
      ]
     },
     "metadata": {},
     "output_type": "display_data"
    }
   ],
   "source": [
    "pd.Series(wordcount).plot.hist(\n",
    "    grid=False,\n",
    "    xlabel=\"Number of words per documents\",\n",
    "    ylabel=\"frequency\",\n",
    "    bins=len(set(wordcount)),\n",
    ");\n"
   ]
  },
  {
   "cell_type": "code",
   "execution_count": 31,
   "id": "d65219d0-e689-48e3-a558-828b3ed159bf",
   "metadata": {
    "collapsed": true,
    "jupyter": {
     "outputs_hidden": true
    },
    "scrolled": true
   },
   "outputs": [
    {
     "data": {
      "text/plain": [
       "[15,\n",
       " 22,\n",
       " 27,\n",
       " 17,\n",
       " 19,\n",
       " 12,\n",
       " 5,\n",
       " 11,\n",
       " 23,\n",
       " 13,\n",
       " 15,\n",
       " 12,\n",
       " 13,\n",
       " 21,\n",
       " 19,\n",
       " 10,\n",
       " 14,\n",
       " 15,\n",
       " 12,\n",
       " 12,\n",
       " 21,\n",
       " 8,\n",
       " 18,\n",
       " 14,\n",
       " 8,\n",
       " 24,\n",
       " 11,\n",
       " 21,\n",
       " 15,\n",
       " 12,\n",
       " 15,\n",
       " 26,\n",
       " 17,\n",
       " 25,\n",
       " 17,\n",
       " 19,\n",
       " 11,\n",
       " 16,\n",
       " 16,\n",
       " 8,\n",
       " 22,\n",
       " 18,\n",
       " 19,\n",
       " 10,\n",
       " 15,\n",
       " 6,\n",
       " 20,\n",
       " 18,\n",
       " 11,\n",
       " 9,\n",
       " 24,\n",
       " 7,\n",
       " 12,\n",
       " 16,\n",
       " 24,\n",
       " 23,\n",
       " 22,\n",
       " 19,\n",
       " 13,\n",
       " 14,\n",
       " 13,\n",
       " 19,\n",
       " 22,\n",
       " 23,\n",
       " 23,\n",
       " 13,\n",
       " 7,\n",
       " 21,\n",
       " 21,\n",
       " 23,\n",
       " 6,\n",
       " 19,\n",
       " 23,\n",
       " 23,\n",
       " 12,\n",
       " 21,\n",
       " 26,\n",
       " 6,\n",
       " 7,\n",
       " 22,\n",
       " 19,\n",
       " 14,\n",
       " 25,\n",
       " 10,\n",
       " 19,\n",
       " 13,\n",
       " 22,\n",
       " 13,\n",
       " 19,\n",
       " 14,\n",
       " 25,\n",
       " 14,\n",
       " 11,\n",
       " 17,\n",
       " 20,\n",
       " 9,\n",
       " 24,\n",
       " 24,\n",
       " 16,\n",
       " 7,\n",
       " 8,\n",
       " 11,\n",
       " 26,\n",
       " 22,\n",
       " 20,\n",
       " 14,\n",
       " 15,\n",
       " 23,\n",
       " 8,\n",
       " 23,\n",
       " 23,\n",
       " 7,\n",
       " 12,\n",
       " 24,\n",
       " 15,\n",
       " 3,\n",
       " 9,\n",
       " 19,\n",
       " 14,\n",
       " 28,\n",
       " 19,\n",
       " 11,\n",
       " 21,\n",
       " 18,\n",
       " 24,\n",
       " 22,\n",
       " 4,\n",
       " 22,\n",
       " 19,\n",
       " 9,\n",
       " 10,\n",
       " 17,\n",
       " 17,\n",
       " 8,\n",
       " 24,\n",
       " 12,\n",
       " 20,\n",
       " 19,\n",
       " 15,\n",
       " 26,\n",
       " 15,\n",
       " 19,\n",
       " 23,\n",
       " 10,\n",
       " 22,\n",
       " 21,\n",
       " 22,\n",
       " 16,\n",
       " 16,\n",
       " 18,\n",
       " 22,\n",
       " 24,\n",
       " 16,\n",
       " 18,\n",
       " 22,\n",
       " 22,\n",
       " 6,\n",
       " 17,\n",
       " 7,\n",
       " 20,\n",
       " 28,\n",
       " 14,\n",
       " 24,\n",
       " 15,\n",
       " 23,\n",
       " 22,\n",
       " 17,\n",
       " 25,\n",
       " 11,\n",
       " 24,\n",
       " 21,\n",
       " 14,\n",
       " 20,\n",
       " 23,\n",
       " 20,\n",
       " 14,\n",
       " 16,\n",
       " 15,\n",
       " 8,\n",
       " 10,\n",
       " 15,\n",
       " 19,\n",
       " 14,\n",
       " 16,\n",
       " 5,\n",
       " 8,\n",
       " 9,\n",
       " 12,\n",
       " 23,\n",
       " 25,\n",
       " 20,\n",
       " 19,\n",
       " 9,\n",
       " 15,\n",
       " 20,\n",
       " 25,\n",
       " 23,\n",
       " 18,\n",
       " 22,\n",
       " 30,\n",
       " 22,\n",
       " 15,\n",
       " 14,\n",
       " 24,\n",
       " 21,\n",
       " 10,\n",
       " 7,\n",
       " 11,\n",
       " 13,\n",
       " 19,\n",
       " 19,\n",
       " 14,\n",
       " 13,\n",
       " 15,\n",
       " 20,\n",
       " 12,\n",
       " 16,\n",
       " 13,\n",
       " 12,\n",
       " 5,\n",
       " 24,\n",
       " 27,\n",
       " 10,\n",
       " 11,\n",
       " 10,\n",
       " 13,\n",
       " 22,\n",
       " 11,\n",
       " 19,\n",
       " 6,\n",
       " 21,\n",
       " 16,\n",
       " 13]"
      ]
     },
     "execution_count": 31,
     "metadata": {},
     "output_type": "execute_result"
    }
   ],
   "source": [
    "wordcount"
   ]
  },
  {
   "cell_type": "code",
   "execution_count": null,
   "id": "c4176fd8-9144-4731-8351-a0b304a90830",
   "metadata": {},
   "outputs": [],
   "source": []
  }
 ],
 "metadata": {
  "kernelspec": {
   "display_name": "Python 3 (ipykernel)",
   "language": "python",
   "name": "python3"
  },
  "language_info": {
   "codemirror_mode": {
    "name": "ipython",
    "version": 3
   },
   "file_extension": ".py",
   "mimetype": "text/x-python",
   "name": "python",
   "nbconvert_exporter": "python",
   "pygments_lexer": "ipython3",
   "version": "3.12.1"
  }
 },
 "nbformat": 4,
 "nbformat_minor": 5
}
