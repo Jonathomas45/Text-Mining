{
 "cells": [
  {
   "cell_type": "code",
   "execution_count": 20,
   "id": "6a6739ea-3142-4c59-8199-f9814ac55ba3",
   "metadata": {},
   "outputs": [],
   "source": [
    "#Helper Packages\n",
    "import pandas as pd\n",
    "import numpy as np\n",
    "import warnings\n",
    "import matplotlib.pyplot as plt\n",
    "from pathlib import Path\n",
    "#Packages with tools for text processing.\n",
    "from wordcloud import WordCloud\n",
    "import nltk\n",
    "import nltk.data\n",
    "from nltk.corpus import stopwords\n",
    "from nltk.tokenize import word_tokenize\n",
    "from nltk.stem.porter import PorterStemmer\n",
    "from sklearn.feature_extraction.text import CountVectorizer\n",
    "from nltk.util import ngrams\n",
    "\n",
    "stop_words = stopwords.words('english')"
   ]
  },
  {
   "cell_type": "code",
   "execution_count": 3,
   "id": "be75c0e7-f077-4628-99d9-be15c595aa98",
   "metadata": {},
   "outputs": [
    {
     "name": "stdout",
     "output_type": "stream",
     "text": [
      "Hello World\n"
     ]
    }
   ],
   "source": [
    "print(\"Hello World\")"
   ]
  },
  {
   "cell_type": "code",
   "execution_count": 9,
   "id": "0acc5438-3e6e-4aa5-b4f6-16a633d2cbc9",
   "metadata": {},
   "outputs": [
    {
     "name": "stdout",
     "output_type": "stream",
     "text": [
      "/workspaces/Text-Mining\n",
      "/\n"
     ]
    }
   ],
   "source": [
    "# Path to the jupyter notebook\n",
    "home_dir = Path.cwd()\n",
    "print(home_dir)\n",
    "\n",
    "main_dir = home_dir.parent.parent\n",
    "print(main_dir)\n",
    "#data_dir = str(main_dir) + \"/data\""
   ]
  },
  {
   "cell_type": "code",
   "execution_count": 14,
   "id": "14eb11c7-50c8-4a4d-ba28-784ba3c2733f",
   "metadata": {},
   "outputs": [
    {
     "name": "stdout",
     "output_type": "stream",
     "text": [
      "/workspaces/Text-Mining/Data\n"
     ]
    }
   ],
   "source": [
    "# More direct -- Setting data directory to \"Data\" folder\n",
    "data_dir = Path.cwd() / \"Data\"\n",
    "print(data_dir)\n"
   ]
  },
  {
   "cell_type": "code",
   "execution_count": 19,
   "id": "c988e98b-0b5a-4ee2-9aa7-b9aa518a889d",
   "metadata": {},
   "outputs": [
    {
     "name": "stdout",
     "output_type": "stream",
     "text": [
      "NLTK Downloader\n",
      "---------------------------------------------------------------------------\n",
      "    d) Download   l) List    u) Update   c) Config   h) Help   q) Quit\n",
      "---------------------------------------------------------------------------\n"
     ]
    },
    {
     "name": "stdin",
     "output_type": "stream",
     "text": [
      "Downloader>  d\n"
     ]
    },
    {
     "name": "stdout",
     "output_type": "stream",
     "text": [
      "\n",
      "Download which package (l=list; x=cancel)?\n"
     ]
    },
    {
     "name": "stdin",
     "output_type": "stream",
     "text": [
      "  Identifier>  stopwords\n"
     ]
    },
    {
     "name": "stderr",
     "output_type": "stream",
     "text": [
      "    Downloading package stopwords to /home/codespace/nltk_data...\n",
      "      Unzipping corpora/stopwords.zip.\n"
     ]
    },
    {
     "name": "stdout",
     "output_type": "stream",
     "text": [
      "\n",
      "---------------------------------------------------------------------------\n",
      "    d) Download   l) List    u) Update   c) Config   h) Help   q) Quit\n",
      "---------------------------------------------------------------------------\n"
     ]
    },
    {
     "name": "stdin",
     "output_type": "stream",
     "text": [
      "Downloader>  q\n"
     ]
    },
    {
     "data": {
      "text/plain": [
       "True"
      ]
     },
     "execution_count": 19,
     "metadata": {},
     "output_type": "execute_result"
    }
   ],
   "source": [
    "# download nltk\n",
    "\n",
    "nltk.download()"
   ]
  },
  {
   "cell_type": "code",
   "execution_count": 18,
   "id": "150946ed-a9f6-4572-8f5f-a5535bd0b281",
   "metadata": {},
   "outputs": [
    {
     "name": "stdout",
     "output_type": "stream",
     "text": [
      "Index(['web_url', 'headline', 'snippet', 'word_count', 'source',\n",
      "       'type_of_material', 'date', 'id'],\n",
      "      dtype='object')\n",
      "0    Nick Kyrgios started his Brisbane Open title d...\n",
      "1    British police confirmed on Tuesday they were ...\n",
      "2    Marcellus Wiley is still on the fence about le...\n",
      "3    Still reckoning with the fallout from her Emme...\n",
      "4    As far as Arike Ogunbowale and coach Muffet Mc...\n",
      "Name: snippet, dtype: object\n"
     ]
    }
   ],
   "source": [
    "#  Load text data\n",
    "df = pd.read_csv(data_dir / \"NYT_article_data.csv\")\n",
    "print(df.columns)\n",
    "print(df[\"snippet\"].head())"
   ]
  },
  {
   "cell_type": "code",
   "execution_count": null,
   "id": "1219d2e7-4172-4ee5-96ea-1e0c93a9c726",
   "metadata": {},
   "outputs": [],
   "source": []
  }
 ],
 "metadata": {
  "kernelspec": {
   "display_name": "Python 3 (ipykernel)",
   "language": "python",
   "name": "python3"
  },
  "language_info": {
   "codemirror_mode": {
    "name": "ipython",
    "version": 3
   },
   "file_extension": ".py",
   "mimetype": "text/x-python",
   "name": "python",
   "nbconvert_exporter": "python",
   "pygments_lexer": "ipython3",
   "version": "3.12.1"
  }
 },
 "nbformat": 4,
 "nbformat_minor": 5
}
